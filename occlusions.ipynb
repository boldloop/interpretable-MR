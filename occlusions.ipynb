{
 "cells": [
  {
   "cell_type": "code",
   "execution_count": 2,
   "id": "cef5d516",
   "metadata": {},
   "outputs": [],
   "source": [
    "import torch\n",
    "import torch.nn as nn\n",
    "import torch.nn.functional as F\n",
    "import torchvision.transforms as transforms\n",
    "import torchvision.datasets as datasets\n",
    "import matplotlib.pyplot as plt"
   ]
  },
  {
   "cell_type": "code",
   "execution_count": 3,
   "id": "40b648ad",
   "metadata": {},
   "outputs": [],
   "source": [
    "# import data and create trainloader\n",
    "class Cropper:\n",
    "    def __call__(self, img):\n",
    "        return transforms.functional.crop(img, 35, 54, 218, 336)\n",
    "    \n",
    "img_scale = 2\n",
    "\n",
    "transform =  transforms.Compose(\n",
    "    [\n",
    "        transforms.Grayscale(),\n",
    "        Cropper(),\n",
    "        transforms.Resize((218 // img_scale, 336 // img_scale)),\n",
    "        transforms.ToTensor(),\n",
    "    ]\n",
    ")\n",
    "\n",
    "test_dataset = datasets.ImageFolder(\n",
    "    \"data/test\",\n",
    "    transform=transform\n",
    ")\n",
    "\n",
    "test_data = torch.stack([test_dataset[i][0] for i in range(len(test_dataset))])\n",
    "test_labels = torch.Tensor([test_dataset[i][1] for i in range(len(test_dataset))])"
   ]
  },
  {
   "cell_type": "code",
   "execution_count": 4,
   "id": "59a66d4f",
   "metadata": {},
   "outputs": [],
   "source": [
    "# construct CNN\n",
    "class ConvNet(nn.Module):\n",
    "    def __init__(self):\n",
    "        super(ConvNet, self).__init__()\n",
    "        self.conv1 = nn.Conv2d(1, 20, 5)\n",
    "        self.pool = nn.MaxPool2d(3, 3)\n",
    "        self.pool2 = nn.MaxPool2d(2, 2)\n",
    "        self.bn = nn.BatchNorm2d(20)\n",
    "        self.conv2 = nn.Conv2d(20, 20, 5)\n",
    "        self.conv3 = nn.Conv2d(20, 20, 3)\n",
    "        self.conv4 = nn.Conv2d(20, 20, 3)\n",
    "        self.fc1 = nn.Linear(41760, 1000)\n",
    "        self.fc2 = nn.Linear(1000, 10)\n",
    "\n",
    "    def forward(self, x):\n",
    "        x = self.pool(F.relu(self.bn(self.conv1(x))))\n",
    "        res1 = x.view(x.shape[0], -1).clone()\n",
    "        x = self.pool(F.relu(self.bn(self.conv2(x))))\n",
    "        res2 = x.view(x.shape[0], -1).clone()\n",
    "        x = self.pool2(F.relu(self.bn(self.conv3(x))))\n",
    "        res3 = x.view(x.shape[0], -1)\n",
    "        x = F.relu(self.bn(self.conv4(x)))\n",
    "        x = x.view(x.shape[0], -1)\n",
    "        x = torch.cat((x, res1, res2, res3), dim=1)\n",
    "        x = F.relu(self.fc1(x))\n",
    "        x = self.fc2(x)\n",
    "        return x"
   ]
  },
  {
   "cell_type": "code",
   "execution_count": 5,
   "id": "dd536a05",
   "metadata": {},
   "outputs": [
    {
     "data": {
      "text/plain": [
       "ConvNet(\n",
       "  (conv1): Conv2d(1, 20, kernel_size=(5, 5), stride=(1, 1))\n",
       "  (pool): MaxPool2d(kernel_size=3, stride=3, padding=0, dilation=1, ceil_mode=False)\n",
       "  (pool2): MaxPool2d(kernel_size=2, stride=2, padding=0, dilation=1, ceil_mode=False)\n",
       "  (bn): BatchNorm2d(20, eps=1e-05, momentum=0.1, affine=True, track_running_stats=True)\n",
       "  (conv2): Conv2d(20, 20, kernel_size=(5, 5), stride=(1, 1))\n",
       "  (conv3): Conv2d(20, 20, kernel_size=(3, 3), stride=(1, 1))\n",
       "  (conv4): Conv2d(20, 20, kernel_size=(3, 3), stride=(1, 1))\n",
       "  (fc1): Linear(in_features=41760, out_features=1000, bias=True)\n",
       "  (fc2): Linear(in_features=1000, out_features=10, bias=True)\n",
       ")"
      ]
     },
     "execution_count": 5,
     "metadata": {},
     "output_type": "execute_result"
    }
   ],
   "source": [
    "model = ConvNet()\n",
    "model.load_state_dict(torch.load('torch_model.pth'))\n",
    "model.eval()"
   ]
  },
  {
   "cell_type": "code",
   "execution_count": 14,
   "id": "7296e3bc",
   "metadata": {},
   "outputs": [],
   "source": [
    "def occlude(image, label):\n",
    "    w, h = tuple(image.shape)\n",
    "    res = torch.zeros_like(image)\n",
    "    s_len = 45\n",
    "    for x in range(s_len, w-s_len):\n",
    "        print(x)\n",
    "        for y in range(s_len, h-s_len):\n",
    "            occluded = image.clone().detach()\n",
    "            occluded[x-s_len:x+s_len, y-s_len:y+s_len] = 0\n",
    "            res[x, y] = nn.Softmax()(model(occluded.reshape(1, 1, w, h)))[0, label]\n",
    "    return res"
   ]
  },
  {
   "cell_type": "code",
   "execution_count": 15,
   "id": "2490ee57",
   "metadata": {},
   "outputs": [
    {
     "name": "stdout",
     "output_type": "stream",
     "text": [
      "45\n"
     ]
    },
    {
     "name": "stderr",
     "output_type": "stream",
     "text": [
      "/Users/augustbrocchini/anaconda3/lib/python3.6/site-packages/ipykernel_launcher.py:10: UserWarning: Implicit dimension choice for softmax has been deprecated. Change the call to include dim=X as an argument.\n",
      "  # Remove the CWD from sys.path while we load stuff.\n"
     ]
    },
    {
     "name": "stdout",
     "output_type": "stream",
     "text": [
      "46\n",
      "47\n",
      "48\n",
      "49\n",
      "50\n",
      "51\n",
      "52\n",
      "53\n",
      "54\n",
      "55\n",
      "56\n",
      "57\n",
      "58\n",
      "59\n",
      "60\n",
      "61\n",
      "62\n",
      "63\n"
     ]
    }
   ],
   "source": [
    "image = test_data[0]\n",
    "res = occlude(image.reshape(109, 168), int(test_labels[0]))"
   ]
  },
  {
   "cell_type": "code",
   "execution_count": 16,
   "id": "4e92fb55",
   "metadata": {},
   "outputs": [
    {
     "data": {
      "text/plain": [
       "<matplotlib.image.AxesImage at 0x7fa9fa44e9e8>"
      ]
     },
     "execution_count": 16,
     "metadata": {},
     "output_type": "execute_result"
    },
    {
     "data": {
      "image/png": "[encoded data removed]",
      "text/plain": [
       "<Figure size 432x288 with 1 Axes>"
      ]
     },
     "metadata": {
      "needs_background": "light"
     },
     "output_type": "display_data"
    }
   ],
   "source": [
    "plt.imshow(res.detach())"
   ]
  },
  {
   "cell_type": "code",
   "execution_count": null,
   "id": "16ccf855",
   "metadata": {},
   "outputs": [],
   "source": []
  }
 ],
 "metadata": {
  "kernelspec": {
   "display_name": "Python 3",
   "language": "python",
   "name": "python3"
  },
  "language_info": {
   "codemirror_mode": {
    "name": "ipython",
    "version": 3
   },
   "file_extension": ".py",
   "mimetype": "text/x-python",
   "name": "python",
   "nbconvert_exporter": "python",
   "pygments_lexer": "ipython3",
   "version": "3.6.13"
  }
 },
 "nbformat": 4,
 "nbformat_minor": 5
}
